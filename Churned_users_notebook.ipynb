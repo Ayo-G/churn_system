{
 "cells": [
  {
   "cell_type": "code",
   "execution_count": null,
   "metadata": {},
   "outputs": [],
   "source": [
    "# Install necessary modules\n",
    "pip install pandas, pandas_gbq"
   ]
  },
  {
   "cell_type": "code",
   "execution_count": null,
   "metadata": {
    "id": "TznZpB3Ii2TA"
   },
   "outputs": [],
   "source": [
    "# Step 1: Import necessary modules\n",
    "import pandas as pd\n",
    "from pandas_gbq import read_gbq\n",
    "from datetime import datetime, timedelta"
   ]
  },
  {
   "cell_type": "code",
   "execution_count": null,
   "metadata": {
    "cellView": "form",
    "collapsed": true,
    "id": "DUoSTbJMi1Ml"
   },
   "outputs": [],
   "source": [
    "# Step 2: Extract data from BigQuery and store in respective pandas dataframes\n",
    "bq_project_id = 'BIGQUERY PROJECT ID'\n",
    "bq_dataset_id = 'BIGQUERY DATASET ID'\n",
    "transactions_bq_table_id = 'TRANSACTIONS' # table id for transactions table\n",
    "services_transactions_bq_table_id = 'SERVICES TRANSACTIONS' # table id for service_transactions table\n",
    "users_bq_table_id = 'USERS' # table id for users table\n",
    "services_bq_table_id = 'SERVICES' # table id for services table\n",
    "\n",
    "# transactions\n",
    "transactions_bq_query = f\"SELECT user_email, amount, id, date(date_field) as date_field, transaction_type, transaction_status, country FROM `{bq_project_id}.{bq_dataset_id}.{transactions_bq_table_id}`\"\n",
    "transactions = read_gbq(transactions_bq_query, project_id=bq_project_id, dialect='standard')\n",
    "\n",
    "# services_transactions\n",
    "services_transactions_bq_query = f\"SELECT id, amount, service_id, transaction_id FROM `{bq_project_id}.{bq_dataset_id}.{services_transactions_bq_table_id}`\"\n",
    "services_transactions = read_gbq(services_transactions_bq_query, project_id=bq_project_id, dialect='standard')\n",
    "\n",
    "# users\n",
    "users_bq_query = f\"SELECT email, phone_number, name FROM `{bq_project_id}.{bq_dataset_id}.{users_bq_table_id}`\"\n",
    "users = read_gbq(users_bq_query, project_id=bq_project_id, dialect='standard')\n",
    "\n",
    "# services\n",
    "services_bq_query = f\"SELECT name, id FROM `{bq_project_id}.{bq_dataset_id}.{services_bq_table_id}`\"\n",
    "services = read_gbq(services_bq_query, project_id=bq_project_id, dialect='standard')\n"
   ]
  },
  {
   "cell_type": "code",
   "execution_count": null,
   "metadata": {
    "id": "i3DmJYIBtpzV"
   },
   "outputs": [],
   "source": [
    "# Step 3: Load the dataframes into memory\n",
    "transactions = pd.DataFrame(transactions)  \n",
    "services_transactions = pd.DataFrame(services_transactions)\n",
    "users = pd.DataFrame(users)\n",
    "services = pd.DataFrame(services)"
   ]
  },
  {
   "cell_type": "code",
   "execution_count": null,
   "metadata": {
    "cellView": "form",
    "id": "eNaQv7MJef1I"
   },
   "outputs": [],
   "source": [
    "\n",
    "def filter_service_data(\n",
    "    transactions, services_transactions, users, services,\n",
    "    service_name=\"cleaning\", specific_date=None, num_days=None\n",
    "):\n",
    "    \n",
    "    # Convert email to lowercase for joins\n",
    "    transactions[\"user_email\"] = transactions[\"user_email\"].str.lower()\n",
    "    users[\"email\"] = users[\"email\"].str.lower()\n",
    "\n",
    "    # Merge dataframes\n",
    "    merged_df = (\n",
    "        transactions\n",
    "        .merge(services_transactions, left_on=\"id\", right_on=\"transaction_id\", how=\"left\")\n",
    "        .merge(users, left_on=\"user_email\", right_on=\"email\", how=\"left\")\n",
    "        .merge(services, left_on=\"service_id\", right_on=\"id\", how=\"left\")\n",
    "    )\n",
    "\n",
    "    # Filter for Nigerian records, successful transactions, and specific payment types\n",
    "    filtered_df = merged_df[\n",
    "        (merged_df[\"country\"] == \"NG\") &\n",
    "        (merged_df[\"transaction_status\"] == \"successful\") &\n",
    "        (merged_df[\"transaction_type\"].str.lower().isin([\n",
    "            \"one-off\", \"subscription\", \"subscription_renewal\", \"reconfiguration\"\n",
    "        ])) &\n",
    "        (merged_df[\"name_y\"].isin([\"cleaning\", \"laundry\", \"meal\"]))\n",
    "    ].copy()  # Create an explicit copy of the dataframe here\n",
    "\n",
    "    # Compute order_count and customer_ltv (Using .loc now)\n",
    "    filtered_df.loc[:, \"order_count\"] = filtered_df.groupby([\"user_email\", \"name_y\"])[\"id\"].transform(\"count\")\n",
    "    filtered_df.loc[:, \"customer_ltv\"] = filtered_df.groupby([\"user_email\", \"name_y\"])[\"amount_y\"].transform(\"sum\")\n",
    "\n",
    "    # Deduplicate to retain only the most recent record per user and service\n",
    "    filtered_df[\"created_at\"] = pd.to_datetime(filtered_df[\"created_at\"])\n",
    "    filtered_df = (\n",
    "        filtered_df\n",
    "        .sort_values(by=[\"user_email\", \"name_y\", \"created_at\"], ascending=[True, True, False])\n",
    "        .drop_duplicates(subset=[\"user_email\", \"name_y\"], keep=\"first\")\n",
    "    )\n",
    "\n",
    "    # Rename columns for clarity\n",
    "    filtered_df.rename(columns={\n",
    "        \"name_x\": \"name\",\n",
    "        \"name_y\": \"service_name\",\n",
    "        \"amount_x\": \"last_transaction_amount\",\n",
    "        \"created_at\": \"last_transaction_date\"\n",
    "    }, inplace=True)\n",
    "\n",
    "    # Apply service name filter\n",
    "    filtered_df = filtered_df[filtered_df[\"service_name\"] == service_name]\n",
    "\n",
    "    # Apply date filters\n",
    "    if specific_date:\n",
    "        specific_date = pd.to_datetime(specific_date)\n",
    "        filtered_df = filtered_df[filtered_df[\"last_transaction_date\"] <= specific_date]\n",
    "    elif num_days:\n",
    "        cutoff_date = datetime.now() - timedelta(days=num_days)\n",
    "        filtered_df = filtered_df[filtered_df[\"last_transaction_date\"] <= cutoff_date]\n",
    "\n",
    "    # Select final columns for output\n",
    "    result_df = filtered_df[[\n",
    "        \"name\", \"email\", \"phone_number\", \"last_transaction_date\", \"last_transaction_amount\",\n",
    "        \"customer_ltv\", \"order_count\", \"service_name\"\n",
    "    ]]\n",
    "    result_df = result_df.sort_values(by= [\"last_transaction_date\"], ascending=[False])\n",
    "    # Format last_transaction_date to just date\n",
    "    result_df['last_transaction_date'] = result_df['last_transaction_date'].dt.strftime('%Y-%m-%d')\n",
    "\n",
    "    result_df = result_df.reset_index(drop=True)\n",
    "\n",
    "\n",
    "    # Dynamically generate filename\n",
    "    if specific_date:\n",
    "        filename = f\"churned_{service_name}_customers_{specific_date}.csv\"\n",
    "    elif num_days:\n",
    "        filename = f\"churned_{service_name}_customers_last_{num_days}_days.csv\"\n",
    "    else:\n",
    "        filename = f\"churned_{service_name}_customers.csv\"  # Default filename\n",
    "\n",
    "    result_df.to_csv(filename, index=False)  # Export to CSV\n",
    "\n",
    "    return result_df"
   ]
  },
  {
   "cell_type": "code",
   "execution_count": null,
   "metadata": {
    "collapsed": true,
    "id": "e-cDQFncqimJ"
   },
   "outputs": [],
   "source": [
    "\n",
    "# Sample code\n",
    "result = filter_service_data(\n",
    "     transactions, services_transactions, users, services,\n",
    "     service_name=\"cleaning\", specific_date= '2024-10-31', num_days= None\n",
    " )\n",
    "\n",
    "result"
   ]
  },
  {
   "cell_type": "code",
   "execution_count": null,
   "metadata": {
    "id": "7gCZKWb5D4RR"
   },
   "outputs": [],
   "source": [
    "result.to_csv(\"result.csv\", index = False)"
   ]
  },
  {
   "cell_type": "code",
   "execution_count": null,
   "metadata": {},
   "outputs": [],
   "source": []
  }
 ],
 "metadata": {
  "colab": {
   "cell_execution_strategy": "setup",
   "private_outputs": true,
   "provenance": []
  },
  "kernelspec": {
   "display_name": "Python 3",
   "name": "python3"
  },
  "language_info": {
   "codemirror_mode": {
    "name": "ipython",
    "version": 3
   },
   "file_extension": ".py",
   "mimetype": "text/x-python",
   "name": "python",
   "nbconvert_exporter": "python",
   "pygments_lexer": "ipython3",
   "version": "3.12.2"
  }
 },
 "nbformat": 4,
 "nbformat_minor": 0
}
